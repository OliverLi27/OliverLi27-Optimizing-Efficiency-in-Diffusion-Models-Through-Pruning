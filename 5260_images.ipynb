{
 "cells": [
  {
   "cell_type": "code",
   "execution_count": 7,
   "id": "initial_id",
   "metadata": {
    "collapsed": true,
    "ExecuteTime": {
     "end_time": "2024-04-18T07:27:01.802208800Z",
     "start_time": "2024-04-18T07:26:57.542485400Z"
    }
   },
   "outputs": [],
   "source": [
    "from PIL import Image\n",
    "import os\n",
    "\n",
    "def create_image_grid(directory, grid_size):\n",
    "    # 读取目录下的所有图像文件\n",
    "    images = [Image.open(os.path.join(directory, img)) for img in os.listdir(directory) if img.endswith(('.png', '.jpg', '.jpeg'))]\n",
    "\n",
    "    # 检查图像数量是否正确\n",
    "    grid_width, grid_height = grid_size\n",
    "    if len(images) != grid_width * grid_height:\n",
    "        raise ValueError(f\"Expected {grid_width * grid_height} images, but found {len(images)} images.\")\n",
    "\n",
    "    # 检测所有图像的尺寸，并确定一个统一尺寸\n",
    "    widths, heights = zip(*(i.size for i in images))\n",
    "    max_width, max_height = max(widths), max(heights)\n",
    "    \n",
    "    # 创建一个新的空白图像，用于放置所有小图像\n",
    "    grid_image = Image.new('RGB', (max_width * grid_width, max_height * grid_height))\n",
    "\n",
    "    # 将每个图像放到它对应的位置，并调整尺寸（如果需要）\n",
    "    for index, image in enumerate(images):\n",
    "        if image.size != (max_width, max_height):\n",
    "            image = image.resize((max_width, max_height), Image.ANTIALIAS)\n",
    "        x = index % grid_width * max_width\n",
    "        y = index // grid_width * max_height\n",
    "        grid_image.paste(image, (x, y))\n",
    "\n",
    "    # 返回最终的大图像\n",
    "    return grid_image\n",
    "\n",
    "# 使用示例\n",
    "directory = \"C:/Users/olive/Desktop/5260_image/before\"  # 替换为你的图像文件夹路径\n",
    "grid_size = (5, 5)  # 网格尺寸\n",
    "final_image = create_image_grid(directory, grid_size)\n",
    "final_image.show()  # 显示图像\n",
    "final_image.save('C:/Users/olive/Desktop/5260_image/before5.jpg')  # 可以选择保存到文件\n"
   ]
  },
  {
   "cell_type": "code",
   "outputs": [],
   "source": [
    "from PIL import Image, ImageOps\n",
    "import os\n",
    "\n",
    "def create_image_grid(directory, grid_size, border_size=10, border_color='white'):\n",
    "    # 读取目录下的所有图像文件\n",
    "    images = [Image.open(os.path.join(directory, img)) for img in os.listdir(directory) if img.endswith(('.png', '.jpg', '.jpeg'))]\n",
    "\n",
    "    # 检查图像数量是否正确\n",
    "    grid_width, grid_height = grid_size\n",
    "    if len(images) != grid_width * grid_height:\n",
    "        raise ValueError(f\"Expected {grid_width * grid_height} images, but found {len(images)} images.\")\n",
    "\n",
    "    # 检测所有图像的尺寸，并确定一个统一尺寸\n",
    "    widths, heights = zip(*(i.size for i in images))\n",
    "    max_width, max_height = max(widths), max(heights)\n",
    "    \n",
    "    # 考虑边框的尺寸，调整网格图像的总尺寸\n",
    "    full_width = (max_width + 2 * border_size) * grid_width\n",
    "    full_height = (max_height + 2 * border_size) * grid_height\n",
    "\n",
    "    # 创建一个新的空白图像，用于放置所有小图像\n",
    "    grid_image = Image.new('RGB', (full_width, full_height), color=border_color)\n",
    "\n",
    "    # 将每个图像放到它对应的位置，并调整尺寸（如果需要），添加边框\n",
    "    for index, image in enumerate(images):\n",
    "        if image.size != (max_width, max_height):\n",
    "            image = image.resize((max_width, max_height), Image.ANTIALIAS)\n",
    "        image_with_border = ImageOps.expand(image, border=border_size, fill=border_color)\n",
    "        x = index % grid_width * (max_width + 2 * border_size)\n",
    "        y = index // grid_width * (max_height + 2 * border_size)\n",
    "        grid_image.paste(image_with_border, (x, y))\n",
    "\n",
    "    # 返回最终的大图像\n",
    "    return grid_image\n",
    "\n",
    "# 使用示例\n",
    "directory = 'C:/Users/olive/Desktop/5260_image/after/after10'  # 替换为你的图像文件夹路径\n",
    "grid_size = (10, 10)  # 网格尺寸\n",
    "border_size = 1  # 边框的宽度，可以根据需要调整\n",
    "final_image = create_image_grid(directory, grid_size, border_size)\n",
    "final_image.show()  # 显示图像\n",
    "final_image.save('C:/Users/olive/Desktop/5260_image/after10.jpg')  # 可以选择保存到文件\n"
   ],
   "metadata": {
    "collapsed": false,
    "ExecuteTime": {
     "end_time": "2024-04-18T08:00:19.684816Z",
     "start_time": "2024-04-18T08:00:14.926037600Z"
    }
   },
   "id": "30f9aa6aec9e583c",
   "execution_count": 22
  },
  {
   "cell_type": "code",
   "outputs": [
    {
     "name": "stdout",
     "output_type": "stream",
     "text": [
      "Files already downloaded and verified\n"
     ]
    }
   ],
   "source": [
    "import torch\n",
    "import torchvision.transforms as transforms\n",
    "from torchvision.datasets import CIFAR10\n",
    "from PIL import Image, ImageOps\n",
    "\n",
    "def create_grid(images, grid_size=(10, 10), image_size=(32, 32), padding=1, border_size=1, border_color='white'):\n",
    "    # 图像大小和网格尺寸\n",
    "    grid_width, grid_height = grid_size\n",
    "    tile_width, tile_height = image_size\n",
    "    width = grid_width * (tile_width + 2 * border_size) + (grid_width - 1) * padding\n",
    "    height = grid_height * (tile_height + 2 * border_size) + (grid_height - 1) * padding\n",
    "\n",
    "    # 创建一个新的空白图像，用于放置所有小图像\n",
    "    grid_image = Image.new('RGB', (width, height), color='white')\n",
    "\n",
    "    # 拼接图像，包括边框\n",
    "    for index, image in enumerate(images):\n",
    "        # 为图像添加白色边框\n",
    "        bordered_image = ImageOps.expand(image, border=border_size, fill=border_color)\n",
    "        row = index // grid_width\n",
    "        col = index % grid_width\n",
    "        x = col * (tile_width + 2 * border_size + padding)\n",
    "        y = row * (tile_height + 2 * border_size + padding)\n",
    "        grid_image.paste(bordered_image, (x, y))\n",
    "\n",
    "    return grid_image\n",
    "\n",
    "# 加载CIFAR-10数据集\n",
    "dataset = CIFAR10(root='.', download=True, train=True, transform=transforms.ToTensor())\n",
    "loader = torch.utils.data.DataLoader(dataset, batch_size=100, shuffle=False)\n",
    "\n",
    "# 获取前25张图像\n",
    "dataiter = iter(loader)\n",
    "images, labels = next(dataiter)\n",
    "\n",
    "# 转换为PIL图像进行处理\n",
    "pil_images = [transforms.ToPILImage()(image) for image in images]\n",
    "\n",
    "# 创建图像网格\n",
    "grid = create_grid(pil_images)\n",
    "grid.show()  # 显示图像\n",
    "grid.save('C:/Users/olive/Desktop/5260_image/origin10.jpg')  # 可以选择保存到文件\n"
   ],
   "metadata": {
    "collapsed": false,
    "ExecuteTime": {
     "end_time": "2024-04-18T08:15:55.976951800Z",
     "start_time": "2024-04-18T08:15:51.019009100Z"
    }
   },
   "id": "bb22b2a3d619d3d5",
   "execution_count": 33
  },
  {
   "cell_type": "code",
   "outputs": [],
   "source": [],
   "metadata": {
    "collapsed": false
   },
   "id": "d69cd1c2aac9e590"
  }
 ],
 "metadata": {
  "kernelspec": {
   "display_name": "Python 3",
   "language": "python",
   "name": "python3"
  },
  "language_info": {
   "codemirror_mode": {
    "name": "ipython",
    "version": 2
   },
   "file_extension": ".py",
   "mimetype": "text/x-python",
   "name": "python",
   "nbconvert_exporter": "python",
   "pygments_lexer": "ipython2",
   "version": "2.7.6"
  }
 },
 "nbformat": 4,
 "nbformat_minor": 5
}
